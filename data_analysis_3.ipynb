{
 "cells": [
  {
   "cell_type": "markdown",
   "metadata": {},
   "source": [
    "# Data Analysis and Data Science\n",
    "## Putting it all together\n",
    "\n",
    "By: Caroline Labelle\n",
    "<br>For: BCM6065-65\n",
    "\n",
    "<br>\n",
    "Date: July 15th 2021\n",
    "\n",
    "<hr style=\"border:1px solid black\"> </hr>\n"
   ]
  },
  {
   "cell_type": "code",
   "execution_count": null,
   "metadata": {},
   "outputs": [],
   "source": [
    "Name: "
   ]
  },
  {
   "cell_type": "code",
   "execution_count": null,
   "metadata": {},
   "outputs": [],
   "source": [
    "### Import sklearn\n",
    "\n",
    "\n",
    "### Import scipy\n",
    "\n",
    "\n",
    "### Import pandas, numpy, seaborn and matplotlib.pyplot\n"
   ]
  },
  {
   "cell_type": "code",
   "execution_count": null,
   "metadata": {},
   "outputs": [],
   "source": [
    "sns.set(rc={'figure.figsize':(9, 4)})\n",
    "sns.set_theme(context=\"notebook\", style=\"white\", palette=\"Set2\")"
   ]
  },
  {
   "cell_type": "markdown",
   "metadata": {},
   "source": [
    "## Explore the data [35 points]\n",
    "\n",
    "Upload the the <code>breast_cancer_expression</code> into a Dataframe. This dataset contains the log-transformed expresions of $M$ for $N$ patients.\n",
    "\n",
    "<hr>\n",
    "\n",
    "### Part 1 [15 points]\n",
    "Answer the following questions:\n",
    "1. How many patients are you considering?\n",
    "2. How many genes are you considering?\n",
    "3. Is there a pair of genes that seems to be linearly correlated? If yes, which genes and what is the correlation coefficient?"
   ]
  },
  {
   "cell_type": "code",
   "execution_count": null,
   "metadata": {},
   "outputs": [],
   "source": []
  },
  {
   "cell_type": "markdown",
   "metadata": {},
   "source": [
    "<hr>\n",
    "\n",
    "### Part 2 [20 points]\n",
    "Visually inspect your dataset by generating at least two (2) graphs. For each visualisation you should:\n",
    "* State what you are exploring;\n",
    "* Plote a comprehensive graphs (title, axis-labels, legend if necesssary);\n",
    "* Give a consise interpretation of the results."
   ]
  },
  {
   "cell_type": "code",
   "execution_count": null,
   "metadata": {},
   "outputs": [],
   "source": []
  },
  {
   "cell_type": "markdown",
   "metadata": {},
   "source": [
    "<hr style=\"border:1px solid black\"> </hr>\n",
    "\n",
    "## Analyse the data [60 points]\n",
    "\n",
    "You are wondering if it would be possible to group patients in various subsets. \n",
    "\n",
    "<hr>\n",
    "\n",
    "### Part 1 [20 points]\n",
    "\n",
    "Using the methods presented in previous class, are you able to group patients in various subsets?\n",
    "\n",
    "Make sure that each step of your analysis is clearly identifiable. When you make decision regarding algorithm parameters, make sure to justify them with a short sentence and a plot (if applicable).\n",
    "\n",
    "For each results generated, give a concise interpretation."
   ]
  },
  {
   "cell_type": "code",
   "execution_count": null,
   "metadata": {},
   "outputs": [],
   "source": []
  },
  {
   "cell_type": "markdown",
   "metadata": {},
   "source": [
    "<hr>\n",
    "\n",
    "### Part 2 [20 points]\n",
    "\n",
    "After doing some reasearch in the online public database where you collected the patient expression data, you were able to extract a list of breast cancer subtype assossiated to each of your patient.\n",
    "\n",
    "Upload the <code>breast_cancer_subtype</code> data and incorporate it to your expression data. Having this new information, re-do your clustering analysis.\n",
    "\n",
    "Are you able to link each found cluster to a cancer subtype?"
   ]
  },
  {
   "cell_type": "code",
   "execution_count": null,
   "metadata": {},
   "outputs": [],
   "source": []
  },
  {
   "cell_type": "markdown",
   "metadata": {},
   "source": [
    "<hr>\n",
    "\n",
    "### Part 3 [10 points]\n",
    "\n",
    "Go back the pair(s) of genes with high linear correlation. Do their expressions differ from one to subtype to another? If so, how?"
   ]
  },
  {
   "cell_type": "code",
   "execution_count": null,
   "metadata": {},
   "outputs": [],
   "source": []
  },
  {
   "cell_type": "markdown",
   "metadata": {},
   "source": [
    "<hr>\n",
    "\n",
    "### Part 4 [10 points]\n",
    "\n",
    "For each cancer subtype, identify the most expressed gene (on average). Do you find a different gene for each cluster?\n",
    "\n",
    "If you do a rapid literrature search, are the identified genes known to be link to their respective subtype?"
   ]
  },
  {
   "cell_type": "code",
   "execution_count": null,
   "metadata": {},
   "outputs": [],
   "source": []
  },
  {
   "cell_type": "markdown",
   "metadata": {},
   "source": [
    "<hr style=\"border:1px solid black\"> </hr>\n",
    "\n",
    "## Share your work [5 points]\n",
    "\n",
    "You are almost done!!\n",
    "\n",
    "Once you are done with the exercices and are happy with your results, **push your Notebook to your GitHub account**.\n",
    "\n",
    "Make sure that you've saved you Notebook before your final commit and push!\n",
    "\n",
    "You last commit/push needs to be dated before **July 16th, 1:00 PM**.\n",
    "\n",
    "Finally, **submit the URL to your GitHub account (https://github.com/HANDLE) to StudiUM.**"
   ]
  },
  {
   "cell_type": "markdown",
   "metadata": {},
   "source": [
    "<hr style=\"border:1px solid black\"> </hr>\n",
    "\n",
    "# Good Job!\n",
    "\n",
    "Yeah! You've just finish the last assignment for the Data Science & Data Analysis bloc of BIM6065: Congratulations 🎉\n",
    "\n",
    "You guys did an amazing job over the last two weeks: you should be proud of yourselves!\n",
    "\n",
    "I wish you the very best in your Master!"
   ]
  }
 ],
 "metadata": {
  "kernelspec": {
   "display_name": "Python 3.6.7",
   "language": "python",
   "name": "python3"
  },
  "language_info": {
   "codemirror_mode": {
    "name": "ipython",
    "version": 3
   },
   "file_extension": ".py",
   "mimetype": "text/x-python",
   "name": "python",
   "nbconvert_exporter": "python",
   "pygments_lexer": "ipython3",
   "version": "3.6.7"
  }
 },
 "nbformat": 4,
 "nbformat_minor": 2
}
